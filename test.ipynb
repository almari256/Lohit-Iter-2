{
 "cells": [
  {
   "cell_type": "code",
   "execution_count": 2,
   "metadata": {},
   "outputs": [],
   "source": [
    "from langchain_community.vectorstores import FAISS\n",
    "from langchain_openai import OpenAIEmbeddings"
   ]
  },
  {
   "cell_type": "code",
   "execution_count": 17,
   "metadata": {},
   "outputs": [],
   "source": [
    "from answers import answers "
   ]
  },
  {
   "cell_type": "code",
   "execution_count": 5,
   "metadata": {},
   "outputs": [],
   "source": [
    "import os\n",
    "os.environ['OPENAI_API_KEY'] = 'sk-proj-akdeZO2k0thnW5qqSQPiT3BlbkFJFVW45H5G0FVUuzST2rLo'"
   ]
  },
  {
   "cell_type": "code",
   "execution_count": 6,
   "metadata": {},
   "outputs": [],
   "source": [
    "vc = FAISS.load_local(\n",
    "    'main_vector_db' ,\n",
    "    embeddings = OpenAIEmbeddings(model = 'text-embedding-3-large') ,  \n",
    "    allow_dangerous_deserialization = True) "
   ]
  },
  {
   "cell_type": "code",
   "execution_count": 15,
   "metadata": {},
   "outputs": [],
   "source": [
    "query = 'Can you provide an overview of the business section in the document?'"
   ]
  },
  {
   "cell_type": "code",
   "execution_count": 11,
   "metadata": {},
   "outputs": [],
   "source": [
    "sd = vc.similarity_search('Can you provide an overview of the business section in the document?')"
   ]
  },
  {
   "cell_type": "code",
   "execution_count": 12,
   "metadata": {},
   "outputs": [
    {
     "data": {
      "text/plain": [
       "4102"
      ]
     },
     "execution_count": 12,
     "metadata": {},
     "output_type": "execute_result"
    }
   ],
   "source": [
    "open('test.txt' , 'w').write('\\n\\n'.join([doc.page_content for doc in sd]))"
   ]
  },
  {
   "cell_type": "code",
   "execution_count": 13,
   "metadata": {},
   "outputs": [],
   "source": [
    "context = '\\n'.join([\n",
    "    doc.page_content \n",
    "    for doc \n",
    "    in sd\n",
    "])"
   ]
  },
  {
   "cell_type": "code",
   "execution_count": 22,
   "metadata": {},
   "outputs": [],
   "source": [
    "prompt = open('Assets/prompt/agent_3/prompt.txt').read().format(context , query)"
   ]
  },
  {
   "cell_type": "code",
   "execution_count": 24,
   "metadata": {},
   "outputs": [
    {
     "name": "stdout",
     "output_type": "stream",
     "text": [
      "Use the following context as your learned knowledge, inside <context></context> XML tags.\n",
      "<context>\n",
      "    ction with the consolidated financial statements and accompanying notes \n",
      "included in Part II, Item 8 of this Form 10-K. This section of this Form 10-K generally discusses 2020  and 2019  items and year-\n",
      "to-year comparisons between 2020  and 2019 . Discussions of 2018  items and year-to-year comparisons between 2019  and \n",
      "2018  that are not included in this Form 10-K can be found in “Management’s Discussion and Analysis of Financial Condition \n",
      "and Results of Operations” in Part II, Item 7 of the Company’s Annual Report on Form 10-K for the fiscal year ended \n",
      "September 28, 2019 .\n",
      "Fiscal Year Highlights\n",
      "COVID-19 Update\n",
      "COVID-19 has spread rapidly throughout the world, prompting governments and businesses to take unprecedented measures in \n",
      "response. Such measures have included restrictions on travel and business operations, temporary closures of businesses, and \n",
      "quarantines and shelter-in-place orders. The COVID-19 pandemic has significantly curtailed global economic activity and caused \n",
      "significant volatility an\n",
      "rdict, where the case remains pending.\n",
      "Note 11 – Segment Information and Geographic Data\n",
      "The Company reports segment information based on the “management” approach. The management approach designates the \n",
      "internal reporting used by management for making decisions and assessing performance as the source of the Company’s \n",
      "reportable segments.\n",
      "The Company manages its business primarily on a geographic basis. The Company’s reportable segments consist of the \n",
      "Americas, Europe, Greater China, Japan and Rest of Asia Pacific. Americas includes both North and South America. Europe \n",
      "includes European countries, as well as India, the Middle East and Africa. Greater China includes China mainland, Hong Kong \n",
      "and Taiwan. Rest of Asia Pacific includes Australia and those Asian countries not included in the Company’s other reportable \n",
      "segments. Although the reportable segments provide similar hardware and software products and similar services, each one is \n",
      "managed separately to better align with the location of the Company’\n",
      "ing information should be read in conjunction with Part II, Item 7, \n",
      "“Management’s Discussion and Analysis of Financial Condition and Results of Operations” and the consolidated financial \n",
      "statements and accompanying notes in Part II, Item 8, “Financial Statements and Supplementary Data” of this Form 10-K.\n",
      "The business, financial condition and operating results of the Company can be affected by a number of factors, whether currently \n",
      "known or unknown, including but not limited to those described below, any one or more of which could, directly or indirectly, \n",
      "cause the Company’s actual financial condition and operating results to vary materially from past, or from anticipated future, \n",
      "financial condition and operating results. Any of these factors, in whole or in part, could materially and adversely affect the \n",
      "Company’s business, financial condition, operating results and stock price.\n",
      "Because of the following factors, as well as other factors affecting the Company’s financial condition and operating results, \n",
      " officers and directors of the Registrant as of such date have been excluded because such \n",
      "persons may be deemed to be affiliates. This determination of executive officers and directors as affiliates is not necessarily a conclusive \n",
      "determination for any other purposes.\n",
      "17,001,802,000  shares of common stock were issued and outstanding as of October 16, 2020 .\n",
      "DOCUMENTS INCORPORATED BY REFERENCE\n",
      "Portions of the Registrant’s definitive proxy statement relating to its 2021  annual meeting of shareholders (the “ 2021  Proxy Statement”) are \n",
      "incorporated by reference into Part III of this Annual Report on Form 10-K where indicated. The 2021  Proxy Statement will be filed with the U.S. \n",
      "Securities and Exchange Commission within 120 days after the end of the fiscal year to which this report relates.\n",
      "Apple Inc.\n",
      "Form 10-K\n",
      "For the Fiscal Year Ended September 26, 2020\n",
      "TABLE OF CONTENTS\n",
      "Page\n",
      "Part I\n",
      "Item 1. Business 1\n",
      "Item 1A. Risk Factors 5\n",
      "Item 1B. Unresolved Staff Comments 15\n",
      "Item 2. Properties 15\n",
      "Item 3. Legal Procee\n",
      "</context>\n",
      "\n",
      "When answer to user:\n",
      "- Try to give equal weight to chat history and context, also do what was told in chat history\n",
      "- If you don't know, just say that you don't know.\n",
      "- If you don't know when you are not sure, ask for clarification.\n",
      "- Try to answer general queries or do general tasks, like `Hey`, or remember this thing\n",
      "- Always give proper citations, with page-number, and pdf name at the end of your response\n",
      "And answer according to the language of the user's question.\n",
      "\n",
      "Given the context information, answer the query.\n",
      "Query: Can you provide an overview of the business section in the document?\n"
     ]
    }
   ],
   "source": [
    "print(prompt)"
   ]
  },
  {
   "cell_type": "code",
   "execution_count": 25,
   "metadata": {},
   "outputs": [],
   "source": [
    "response = answers.run_llm(prompt)"
   ]
  },
  {
   "cell_type": "code",
   "execution_count": 26,
   "metadata": {},
   "outputs": [
    {
     "data": {
      "text/plain": [
       "\"Use the following context as your learned knowledge, inside <context></context> XML tags.\\n<context>\\n    ction with the consolidated financial statements and accompanying notes \\nincluded in Part II, Item 8 of this Form 10-K. This section of this Form 10-K generally discusses 2020  and 2019  items and year-\\nto-year comparisons between 2020  and 2019 . Discussions of 2018  items and year-to-year comparisons between 2019  and \\n2018  that are not included in this Form 10-K can be found in “Management’s Discussion and Analysis of Financial Condition \\nand Results of Operations” in Part II, Item 7 of the Company’s Annual Report on Form 10-K for the fiscal year ended \\nSeptember\\xa028, 2019 .\\nFiscal Year Highlights\\nCOVID-19 Update\\nCOVID-19 has spread rapidly throughout the world, prompting governments and businesses to take unprecedented measures in \\nresponse. Such measures have included restrictions on travel and business operations, temporary closures of businesses, and \\nquarantines and shelter-in-place orders. The COVID-19 pandemic has significantly curtailed global economic activity and caused \\nsignificant volatility an\\nrdict, where the case remains pending.\\nNote 11 – Segment Information and Geographic Data\\nThe Company reports segment information based on the “management” approach. The management approach designates the \\ninternal reporting used by management for making decisions and assessing performance as the source of the Company’s \\nreportable segments.\\nThe Company manages its business primarily on a geographic basis. The Company’s reportable segments consist of the \\nAmericas, Europe, Greater China, Japan and Rest of Asia Pacific. Americas includes both North and South America. Europe \\nincludes European countries, as well as India, the Middle East and Africa. Greater China includes China mainland, Hong Kong \\nand Taiwan. Rest of Asia Pacific includes Australia and those Asian countries not included in the Company’s other reportable \\nsegments. Although the reportable segments provide similar hardware and software products and similar services, each one is \\nmanaged separately to better align with the location of the Company’\\ning information should be read in conjunction with Part II, Item 7, \\n“Management’s Discussion and Analysis of Financial Condition and Results of Operations” and the consolidated financial \\nstatements and accompanying notes in Part II, Item 8, “Financial Statements and Supplementary Data” of this Form 10-K.\\nThe business, financial condition and operating results of the Company can be affected by a number of factors, whether currently \\nknown or unknown, including but not limited to those described below, any one or more of which could, directly or indirectly, \\ncause the Company’s actual financial condition and operating results to vary materially from past, or from anticipated future, \\nfinancial condition and operating results. Any of these factors, in whole or in part, could materially and adversely affect the \\nCompany’s business, financial condition, operating results and stock price.\\nBecause of the following factors, as well as other factors affecting the Company’s financial condition and operating results, \\n officers and directors of the Registrant as of such date have been excluded because such \\npersons may be deemed to be affiliates. This determination of executive officers and directors as affiliates is not necessarily a conclusive \\ndetermination for any other purposes.\\n17,001,802,000  shares of common stock were issued and outstanding as of October\\xa016, 2020 .\\nDOCUMENTS INCORPORATED BY REFERENCE\\nPortions of the Registrant’s definitive proxy statement relating to its 2021  annual meeting of shareholders (the “ 2021  Proxy Statement”) are \\nincorporated by reference into Part III of this Annual Report on Form 10-K where indicated. The 2021  Proxy Statement will be filed with the U.S. \\nSecurities and Exchange Commission within 120 days after the end of the fiscal year to which this report relates.\\nApple Inc.\\nForm 10-K\\nFor the Fiscal Year Ended September\\xa026, 2020\\nTABLE OF CONTENTS\\nPage\\nPart I\\nItem 1. Business 1\\nItem 1A. Risk Factors 5\\nItem 1B. Unresolved Staff Comments 15\\nItem 2. Properties 15\\nItem 3. Legal Procee\\n</context>\\n\\nWhen answer to user:\\n- Try to give equal weight to chat history and context, also do what was told in chat history\\n- If you don't know, just say that you don't know.\\n- If you don't know when you are not sure, ask for clarification.\\n- Try to answer general queries or do general tasks, like `Hey`, or remember this thing\\n- Always give proper citations, with page-number, and pdf name at the end of your response\\nAnd answer according to the language of the user's question.\\n\\nGiven the context information, answer the query.\\nQuery: Can you provide an overview of the business section in the document?\""
      ]
     },
     "execution_count": 26,
     "metadata": {},
     "output_type": "execute_result"
    }
   ],
   "source": [
    "prompt"
   ]
  },
  {
   "cell_type": "code",
   "execution_count": 27,
   "metadata": {},
   "outputs": [
    {
     "data": {
      "text/plain": [
       "\"The business section of the document provides detailed information about Apple Inc.'s business operations, including its various segments based on geographic regions like Americas, Europe, Greater China, Japan, and Rest of Asia Pacific. It also discusses the impact of COVID-19 on the company's operations, highlighting the challenges faced due to the pandemic. For further details, you can refer to Part I of the Form 10-K document for the fiscal year ended September 26, 2020. (Page 1, Apple Inc. Form 10-K)\""
      ]
     },
     "execution_count": 27,
     "metadata": {},
     "output_type": "execute_result"
    }
   ],
   "source": [
    "response"
   ]
  },
  {
   "cell_type": "code",
   "execution_count": null,
   "metadata": {},
   "outputs": [],
   "source": [
    "\n",
    "def run_rag(query , vc) : \n",
    "\n",
    "    similar_docs = vc.similarity_search(query)\n",
    "\n",
    "    context = '\\n'.join([\n",
    "        doc.page_content \n",
    "        for doc \n",
    "        in similar_docs\n",
    "    ])\n",
    "\n",
    "    prompt = open('Assets/prompt/agent_3/prompt.txt').read().format(context , query)\n",
    "\n",
    "    response = answers.run_llm(prompt)\n",
    "\n",
    "    return response"
   ]
  }
 ],
 "metadata": {
  "kernelspec": {
   "display_name": "Python 3",
   "language": "python",
   "name": "python3"
  },
  "language_info": {
   "codemirror_mode": {
    "name": "ipython",
    "version": 3
   },
   "file_extension": ".py",
   "mimetype": "text/x-python",
   "name": "python",
   "nbconvert_exporter": "python",
   "pygments_lexer": "ipython3",
   "version": "3.10.13"
  }
 },
 "nbformat": 4,
 "nbformat_minor": 2
}
